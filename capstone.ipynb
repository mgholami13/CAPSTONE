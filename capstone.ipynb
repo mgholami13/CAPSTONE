{
 "cells": [
  {
   "cell_type": "code",
   "execution_count": 1,
   "id": "2d3454c2",
   "metadata": {},
   "outputs": [],
   "source": [
    "import numpy as np\n",
    "import pandas as pd\n",
    "import matplotlib.pyplot as plt\n",
    "from statsmodels.api import tsa # time series analysis\n",
    "import statsmodels.api as sm\n",
    "import plotly.express as px\n",
    "from plotly.subplots import make_subplots\n",
    "import plotly.graph_objs as go\n",
    "import seaborn as sns"
   ]
  },
  {
   "cell_type": "code",
   "execution_count": 5,
   "id": "06afc03f",
   "metadata": {},
   "outputs": [
    {
     "data": {
      "text/html": [
       "<div>\n",
       "<style scoped>\n",
       "    .dataframe tbody tr th:only-of-type {\n",
       "        vertical-align: middle;\n",
       "    }\n",
       "\n",
       "    .dataframe tbody tr th {\n",
       "        vertical-align: top;\n",
       "    }\n",
       "\n",
       "    .dataframe thead th {\n",
       "        text-align: right;\n",
       "    }\n",
       "</style>\n",
       "<table border=\"1\" class=\"dataframe\">\n",
       "  <thead>\n",
       "    <tr style=\"text-align: right;\">\n",
       "      <th></th>\n",
       "      <th>Date</th>\n",
       "      <th>Time</th>\n",
       "      <th>BO</th>\n",
       "      <th>BH</th>\n",
       "      <th>BL</th>\n",
       "      <th>BC</th>\n",
       "      <th>BCh</th>\n",
       "      <th>AO</th>\n",
       "      <th>AH</th>\n",
       "      <th>AL</th>\n",
       "      <th>AC</th>\n",
       "      <th>ACh</th>\n",
       "    </tr>\n",
       "  </thead>\n",
       "  <tbody>\n",
       "    <tr>\n",
       "      <th>0</th>\n",
       "      <td>2005-05-02</td>\n",
       "      <td>00:00</td>\n",
       "      <td>1.2852</td>\n",
       "      <td>1.2852</td>\n",
       "      <td>1.2840</td>\n",
       "      <td>1.2844</td>\n",
       "      <td>-0.0008</td>\n",
       "      <td>1.2854</td>\n",
       "      <td>1.2854</td>\n",
       "      <td>1.2842</td>\n",
       "      <td>1.2846</td>\n",
       "      <td>-0.0008</td>\n",
       "    </tr>\n",
       "    <tr>\n",
       "      <th>1</th>\n",
       "      <td>2005-05-02</td>\n",
       "      <td>01:00</td>\n",
       "      <td>1.2844</td>\n",
       "      <td>1.2848</td>\n",
       "      <td>1.2839</td>\n",
       "      <td>1.2842</td>\n",
       "      <td>-0.0002</td>\n",
       "      <td>1.2846</td>\n",
       "      <td>1.2850</td>\n",
       "      <td>1.2841</td>\n",
       "      <td>1.2844</td>\n",
       "      <td>-0.0002</td>\n",
       "    </tr>\n",
       "    <tr>\n",
       "      <th>2</th>\n",
       "      <td>2005-05-02</td>\n",
       "      <td>02:00</td>\n",
       "      <td>1.2843</td>\n",
       "      <td>1.2854</td>\n",
       "      <td>1.2841</td>\n",
       "      <td>1.2851</td>\n",
       "      <td>0.0008</td>\n",
       "      <td>1.2845</td>\n",
       "      <td>1.2856</td>\n",
       "      <td>1.2843</td>\n",
       "      <td>1.2853</td>\n",
       "      <td>0.0008</td>\n",
       "    </tr>\n",
       "    <tr>\n",
       "      <th>3</th>\n",
       "      <td>2005-05-02</td>\n",
       "      <td>03:00</td>\n",
       "      <td>1.2851</td>\n",
       "      <td>1.2859</td>\n",
       "      <td>1.2850</td>\n",
       "      <td>1.2851</td>\n",
       "      <td>0.0000</td>\n",
       "      <td>1.2853</td>\n",
       "      <td>1.2861</td>\n",
       "      <td>1.2852</td>\n",
       "      <td>1.2853</td>\n",
       "      <td>0.0000</td>\n",
       "    </tr>\n",
       "    <tr>\n",
       "      <th>4</th>\n",
       "      <td>2005-05-02</td>\n",
       "      <td>04:00</td>\n",
       "      <td>1.2852</td>\n",
       "      <td>1.2859</td>\n",
       "      <td>1.2849</td>\n",
       "      <td>1.2855</td>\n",
       "      <td>0.0003</td>\n",
       "      <td>1.2854</td>\n",
       "      <td>1.2861</td>\n",
       "      <td>1.2851</td>\n",
       "      <td>1.2857</td>\n",
       "      <td>0.0003</td>\n",
       "    </tr>\n",
       "  </tbody>\n",
       "</table>\n",
       "</div>"
      ],
      "text/plain": [
       "         Date   Time      BO      BH      BL      BC     BCh      AO      AH   \n",
       "0  2005-05-02  00:00  1.2852  1.2852  1.2840  1.2844 -0.0008  1.2854  1.2854  \\\n",
       "1  2005-05-02  01:00  1.2844  1.2848  1.2839  1.2842 -0.0002  1.2846  1.2850   \n",
       "2  2005-05-02  02:00  1.2843  1.2854  1.2841  1.2851  0.0008  1.2845  1.2856   \n",
       "3  2005-05-02  03:00  1.2851  1.2859  1.2850  1.2851  0.0000  1.2853  1.2861   \n",
       "4  2005-05-02  04:00  1.2852  1.2859  1.2849  1.2855  0.0003  1.2854  1.2861   \n",
       "\n",
       "       AL      AC     ACh  \n",
       "0  1.2842  1.2846 -0.0008  \n",
       "1  1.2841  1.2844 -0.0002  \n",
       "2  1.2843  1.2853  0.0008  \n",
       "3  1.2852  1.2853  0.0000  \n",
       "4  1.2851  1.2857  0.0003  "
      ]
     },
     "execution_count": 5,
     "metadata": {},
     "output_type": "execute_result"
    }
   ],
   "source": [
    "data = pd.read_csv(\"data\\eurusd_hour.csv\")\n",
    "data.head()"
   ]
  },
  {
   "cell_type": "code",
   "execution_count": 7,
   "id": "90223ff8",
   "metadata": {},
   "outputs": [
    {
     "name": "stdout",
     "output_type": "stream",
     "text": [
      "<class 'pandas.core.frame.DataFrame'>\n",
      "RangeIndex: 93084 entries, 0 to 93083\n",
      "Data columns (total 12 columns):\n",
      " #   Column  Non-Null Count  Dtype  \n",
      "---  ------  --------------  -----  \n",
      " 0   Date    93084 non-null  object \n",
      " 1   Time    93084 non-null  object \n",
      " 2   BO      93084 non-null  float64\n",
      " 3   BH      93084 non-null  float64\n",
      " 4   BL      93084 non-null  float64\n",
      " 5   BC      93084 non-null  float64\n",
      " 6   BCh     93084 non-null  float64\n",
      " 7   AO      93084 non-null  float64\n",
      " 8   AH      93084 non-null  float64\n",
      " 9   AL      93084 non-null  float64\n",
      " 10  AC      93084 non-null  float64\n",
      " 11  ACh     93084 non-null  float64\n",
      "dtypes: float64(10), object(2)\n",
      "memory usage: 8.5+ MB\n"
     ]
    }
   ],
   "source": [
    "data.info()"
   ]
  },
  {
   "cell_type": "code",
   "execution_count": 3,
   "id": "f45a09ea",
   "metadata": {},
   "outputs": [],
   "source": [
    "df_1 = data[['Date', 'Time', 'BC']]"
   ]
  },
  {
   "cell_type": "code",
   "execution_count": 4,
   "id": "13b20002",
   "metadata": {},
   "outputs": [
    {
     "data": {
      "text/html": [
       "<div>\n",
       "<style scoped>\n",
       "    .dataframe tbody tr th:only-of-type {\n",
       "        vertical-align: middle;\n",
       "    }\n",
       "\n",
       "    .dataframe tbody tr th {\n",
       "        vertical-align: top;\n",
       "    }\n",
       "\n",
       "    .dataframe thead th {\n",
       "        text-align: right;\n",
       "    }\n",
       "</style>\n",
       "<table border=\"1\" class=\"dataframe\">\n",
       "  <thead>\n",
       "    <tr style=\"text-align: right;\">\n",
       "      <th></th>\n",
       "      <th>Date</th>\n",
       "      <th>Time</th>\n",
       "      <th>BC</th>\n",
       "    </tr>\n",
       "  </thead>\n",
       "  <tbody>\n",
       "    <tr>\n",
       "      <th>0</th>\n",
       "      <td>2005-05-02</td>\n",
       "      <td>00:00</td>\n",
       "      <td>1.2844</td>\n",
       "    </tr>\n",
       "    <tr>\n",
       "      <th>1</th>\n",
       "      <td>2005-05-02</td>\n",
       "      <td>01:00</td>\n",
       "      <td>1.2842</td>\n",
       "    </tr>\n",
       "    <tr>\n",
       "      <th>2</th>\n",
       "      <td>2005-05-02</td>\n",
       "      <td>02:00</td>\n",
       "      <td>1.2851</td>\n",
       "    </tr>\n",
       "    <tr>\n",
       "      <th>3</th>\n",
       "      <td>2005-05-02</td>\n",
       "      <td>03:00</td>\n",
       "      <td>1.2851</td>\n",
       "    </tr>\n",
       "    <tr>\n",
       "      <th>4</th>\n",
       "      <td>2005-05-02</td>\n",
       "      <td>04:00</td>\n",
       "      <td>1.2855</td>\n",
       "    </tr>\n",
       "  </tbody>\n",
       "</table>\n",
       "</div>"
      ],
      "text/plain": [
       "         Date   Time      BC\n",
       "0  2005-05-02  00:00  1.2844\n",
       "1  2005-05-02  01:00  1.2842\n",
       "2  2005-05-02  02:00  1.2851\n",
       "3  2005-05-02  03:00  1.2851\n",
       "4  2005-05-02  04:00  1.2855"
      ]
     },
     "execution_count": 4,
     "metadata": {},
     "output_type": "execute_result"
    }
   ],
   "source": [
    "df_1.head()"
   ]
  },
  {
   "cell_type": "code",
   "execution_count": 53,
   "id": "8caaa3f2",
   "metadata": {},
   "outputs": [],
   "source": [
    "df_1.index = pd.to_datetime(df_1['Date'] + '' + df_1['Time'], format='%Y-%m-%d%H:%M')"
   ]
  },
  {
   "cell_type": "code",
   "execution_count": 54,
   "id": "181cbfc2",
   "metadata": {},
   "outputs": [],
   "source": [
    "#df_1.index = df_1.index.strftime('%Y-%m-%d %H:%M')\n"
   ]
  },
  {
   "cell_type": "code",
   "execution_count": 55,
   "id": "e7384fee",
   "metadata": {},
   "outputs": [
    {
     "data": {
      "text/plain": [
       "Index(['Date', 'Time', 'BC'], dtype='object')"
      ]
     },
     "execution_count": 55,
     "metadata": {},
     "output_type": "execute_result"
    }
   ],
   "source": [
    "df_1.columns"
   ]
  },
  {
   "cell_type": "code",
   "execution_count": 56,
   "id": "97037724",
   "metadata": {},
   "outputs": [],
   "source": [
    "df = df_1.copy()"
   ]
  },
  {
   "cell_type": "code",
   "execution_count": 57,
   "id": "0c8d2253",
   "metadata": {},
   "outputs": [],
   "source": [
    "df.drop(columns=['Date', 'Time'], inplace=True)"
   ]
  },
  {
   "cell_type": "code",
   "execution_count": 58,
   "id": "e7038cc0",
   "metadata": {},
   "outputs": [
    {
     "data": {
      "text/html": [
       "<div>\n",
       "<style scoped>\n",
       "    .dataframe tbody tr th:only-of-type {\n",
       "        vertical-align: middle;\n",
       "    }\n",
       "\n",
       "    .dataframe tbody tr th {\n",
       "        vertical-align: top;\n",
       "    }\n",
       "\n",
       "    .dataframe thead th {\n",
       "        text-align: right;\n",
       "    }\n",
       "</style>\n",
       "<table border=\"1\" class=\"dataframe\">\n",
       "  <thead>\n",
       "    <tr style=\"text-align: right;\">\n",
       "      <th></th>\n",
       "      <th>BC</th>\n",
       "    </tr>\n",
       "  </thead>\n",
       "  <tbody>\n",
       "    <tr>\n",
       "      <th>2005-05-02 00:00:00</th>\n",
       "      <td>1.28440</td>\n",
       "    </tr>\n",
       "    <tr>\n",
       "      <th>2005-05-02 01:00:00</th>\n",
       "      <td>1.28420</td>\n",
       "    </tr>\n",
       "    <tr>\n",
       "      <th>2005-05-02 02:00:00</th>\n",
       "      <td>1.28510</td>\n",
       "    </tr>\n",
       "    <tr>\n",
       "      <th>2005-05-02 03:00:00</th>\n",
       "      <td>1.28510</td>\n",
       "    </tr>\n",
       "    <tr>\n",
       "      <th>2005-05-02 04:00:00</th>\n",
       "      <td>1.28550</td>\n",
       "    </tr>\n",
       "    <tr>\n",
       "      <th>...</th>\n",
       "      <td>...</td>\n",
       "    </tr>\n",
       "    <tr>\n",
       "      <th>2020-04-29 18:00:00</th>\n",
       "      <td>1.08713</td>\n",
       "    </tr>\n",
       "    <tr>\n",
       "      <th>2020-04-29 19:00:00</th>\n",
       "      <td>1.08748</td>\n",
       "    </tr>\n",
       "    <tr>\n",
       "      <th>2020-04-29 20:00:00</th>\n",
       "      <td>1.08708</td>\n",
       "    </tr>\n",
       "    <tr>\n",
       "      <th>2020-04-29 21:00:00</th>\n",
       "      <td>1.08714</td>\n",
       "    </tr>\n",
       "    <tr>\n",
       "      <th>2020-04-29 22:00:00</th>\n",
       "      <td>1.08743</td>\n",
       "    </tr>\n",
       "  </tbody>\n",
       "</table>\n",
       "<p>93084 rows × 1 columns</p>\n",
       "</div>"
      ],
      "text/plain": [
       "                          BC\n",
       "2005-05-02 00:00:00  1.28440\n",
       "2005-05-02 01:00:00  1.28420\n",
       "2005-05-02 02:00:00  1.28510\n",
       "2005-05-02 03:00:00  1.28510\n",
       "2005-05-02 04:00:00  1.28550\n",
       "...                      ...\n",
       "2020-04-29 18:00:00  1.08713\n",
       "2020-04-29 19:00:00  1.08748\n",
       "2020-04-29 20:00:00  1.08708\n",
       "2020-04-29 21:00:00  1.08714\n",
       "2020-04-29 22:00:00  1.08743\n",
       "\n",
       "[93084 rows x 1 columns]"
      ]
     },
     "execution_count": 58,
     "metadata": {},
     "output_type": "execute_result"
    }
   ],
   "source": [
    "df"
   ]
  },
  {
   "cell_type": "code",
   "execution_count": 62,
   "id": "e15148fa",
   "metadata": {},
   "outputs": [],
   "source": [
    "df = df.loc[df.index > \"2015\"]"
   ]
  },
  {
   "cell_type": "code",
   "execution_count": 63,
   "id": "91518eb3",
   "metadata": {},
   "outputs": [
    {
     "data": {
      "text/html": [
       "<div>\n",
       "<style scoped>\n",
       "    .dataframe tbody tr th:only-of-type {\n",
       "        vertical-align: middle;\n",
       "    }\n",
       "\n",
       "    .dataframe tbody tr th {\n",
       "        vertical-align: top;\n",
       "    }\n",
       "\n",
       "    .dataframe thead th {\n",
       "        text-align: right;\n",
       "    }\n",
       "</style>\n",
       "<table border=\"1\" class=\"dataframe\">\n",
       "  <thead>\n",
       "    <tr style=\"text-align: right;\">\n",
       "      <th></th>\n",
       "      <th>BC</th>\n",
       "    </tr>\n",
       "  </thead>\n",
       "  <tbody>\n",
       "    <tr>\n",
       "      <th>2015-01-01 22:00:00</th>\n",
       "      <td>1.21009</td>\n",
       "    </tr>\n",
       "    <tr>\n",
       "      <th>2015-01-01 23:00:00</th>\n",
       "      <td>1.20866</td>\n",
       "    </tr>\n",
       "    <tr>\n",
       "      <th>2015-01-02 00:00:00</th>\n",
       "      <td>1.20669</td>\n",
       "    </tr>\n",
       "    <tr>\n",
       "      <th>2015-01-02 01:00:00</th>\n",
       "      <td>1.20667</td>\n",
       "    </tr>\n",
       "    <tr>\n",
       "      <th>2015-01-02 02:00:00</th>\n",
       "      <td>1.20577</td>\n",
       "    </tr>\n",
       "    <tr>\n",
       "      <th>...</th>\n",
       "      <td>...</td>\n",
       "    </tr>\n",
       "    <tr>\n",
       "      <th>2020-04-29 18:00:00</th>\n",
       "      <td>1.08713</td>\n",
       "    </tr>\n",
       "    <tr>\n",
       "      <th>2020-04-29 19:00:00</th>\n",
       "      <td>1.08748</td>\n",
       "    </tr>\n",
       "    <tr>\n",
       "      <th>2020-04-29 20:00:00</th>\n",
       "      <td>1.08708</td>\n",
       "    </tr>\n",
       "    <tr>\n",
       "      <th>2020-04-29 21:00:00</th>\n",
       "      <td>1.08714</td>\n",
       "    </tr>\n",
       "    <tr>\n",
       "      <th>2020-04-29 22:00:00</th>\n",
       "      <td>1.08743</td>\n",
       "    </tr>\n",
       "  </tbody>\n",
       "</table>\n",
       "<p>32861 rows × 1 columns</p>\n",
       "</div>"
      ],
      "text/plain": [
       "                          BC\n",
       "2015-01-01 22:00:00  1.21009\n",
       "2015-01-01 23:00:00  1.20866\n",
       "2015-01-02 00:00:00  1.20669\n",
       "2015-01-02 01:00:00  1.20667\n",
       "2015-01-02 02:00:00  1.20577\n",
       "...                      ...\n",
       "2020-04-29 18:00:00  1.08713\n",
       "2020-04-29 19:00:00  1.08748\n",
       "2020-04-29 20:00:00  1.08708\n",
       "2020-04-29 21:00:00  1.08714\n",
       "2020-04-29 22:00:00  1.08743\n",
       "\n",
       "[32861 rows x 1 columns]"
      ]
     },
     "execution_count": 63,
     "metadata": {},
     "output_type": "execute_result"
    }
   ],
   "source": [
    "df"
   ]
  },
  {
   "cell_type": "code",
   "execution_count": 71,
   "id": "27e33769",
   "metadata": {},
   "outputs": [
    {
     "data": {
      "text/plain": [
       "Timestamp('2020-04-29 22:00:00')"
      ]
     },
     "execution_count": 71,
     "metadata": {},
     "output_type": "execute_result"
    }
   ],
   "source": [
    "first_day = df.index.min()\n",
    "last_day = df.index.max()\n",
    "last_day"
   ]
  },
  {
   "cell_type": "code",
   "execution_count": 73,
   "id": "21783b93",
   "metadata": {},
   "outputs": [
    {
     "data": {
      "text/plain": [
       "46681"
      ]
     },
     "execution_count": 73,
     "metadata": {},
     "output_type": "execute_result"
    }
   ],
   "source": [
    "full_range = pd.date_range(first_day, last_day, freq='H')\n",
    "full_range.shape[0]"
   ]
  },
  {
   "cell_type": "code",
   "execution_count": 75,
   "id": "3a1bf349",
   "metadata": {
    "scrolled": false
   },
   "outputs": [],
   "source": [
    "differences = full_range.difference(df.index)"
   ]
  },
  {
   "cell_type": "code",
   "execution_count": 85,
   "id": "896ba28c",
   "metadata": {},
   "outputs": [],
   "source": [
    "day_names = differences.day_name()"
   ]
  },
  {
   "cell_type": "code",
   "execution_count": 86,
   "id": "0e1ac12e",
   "metadata": {},
   "outputs": [
    {
     "data": {
      "text/plain": [
       "Saturday     6672\n",
       "Sunday       5951\n",
       "Friday        840\n",
       "Monday        122\n",
       "Wednesday      96\n",
       "Tuesday        76\n",
       "Thursday       63\n",
       "Name: count, dtype: int64"
      ]
     },
     "execution_count": 86,
     "metadata": {},
     "output_type": "execute_result"
    }
   ],
   "source": [
    "day_names.value_counts()"
   ]
  },
  {
   "cell_type": "code",
   "execution_count": 89,
   "id": "8aef4bc0",
   "metadata": {},
   "outputs": [],
   "source": [
    "df = df.reindex(full_range)"
   ]
  },
  {
   "cell_type": "code",
   "execution_count": 91,
   "id": "283dd46c",
   "metadata": {},
   "outputs": [
    {
     "data": {
      "text/plain": [
       "13820"
      ]
     },
     "execution_count": 91,
     "metadata": {},
     "output_type": "execute_result"
    }
   ],
   "source": [
    "differences.shape[0]"
   ]
  },
  {
   "cell_type": "code",
   "execution_count": 90,
   "id": "3bab6558",
   "metadata": {},
   "outputs": [
    {
     "data": {
      "text/plain": [
       "BC    13820\n",
       "dtype: int64"
      ]
     },
     "execution_count": 90,
     "metadata": {},
     "output_type": "execute_result"
    }
   ],
   "source": [
    "df.isna().sum()"
   ]
  },
  {
   "cell_type": "code",
   "execution_count": 94,
   "id": "3732fbdf",
   "metadata": {},
   "outputs": [
    {
     "data": {
      "image/png": "[encoded data removed]",
      "text/plain": [
       "<Figure size 1700x200 with 1 Axes>"
      ]
     },
     "metadata": {},
     "output_type": "display_data"
    }
   ],
   "source": [
    "plt.figure(figsize=(17,2))\n",
    "ax = sns.heatmap(df.isna().T, cmap=\"tab10\" , cbar=False)\n",
    "ax.set(xticklabels=[])\n",
    "plt.show()"
   ]
  },
  {
   "cell_type": "code",
   "execution_count": null,
   "id": "fcbde2ac",
   "metadata": {},
   "outputs": [],
   "source": []
  },
  {
   "cell_type": "code",
   "execution_count": 66,
   "id": "0d42d2e1",
   "metadata": {},
   "outputs": [
    {
     "ename": "ValueError",
     "evalue": "You must specify a period or x must be a pandas object with a PeriodIndex or a DatetimeIndex with a freq not set to None",
     "output_type": "error",
     "traceback": [
      "\u001b[1;31m---------------------------------------------------------------------------\u001b[0m",
      "\u001b[1;31mValueError\u001b[0m                                Traceback (most recent call last)",
      "Cell \u001b[1;32mIn[66], line 1\u001b[0m\n\u001b[1;32m----> 1\u001b[0m decomposition \u001b[38;5;241m=\u001b[39m \u001b[43mtsa\u001b[49m\u001b[38;5;241;43m.\u001b[39;49m\u001b[43mseasonal_decompose\u001b[49m\u001b[43m(\u001b[49m\u001b[43mdf\u001b[49m\u001b[43m,\u001b[49m\u001b[43m \u001b[49m\u001b[43mmodel\u001b[49m\u001b[38;5;241;43m=\u001b[39;49m\u001b[38;5;124;43m'\u001b[39;49m\u001b[38;5;124;43madditive\u001b[39;49m\u001b[38;5;124;43m'\u001b[39;49m\u001b[43m)\u001b[49m\n",
      "File \u001b[1;32m~\\miniconda3\\envs\\timeseries\\lib\\site-packages\\statsmodels\\tsa\\seasonal.py:166\u001b[0m, in \u001b[0;36mseasonal_decompose\u001b[1;34m(x, model, filt, period, two_sided, extrapolate_trend)\u001b[0m\n\u001b[0;32m    164\u001b[0m         period \u001b[38;5;241m=\u001b[39m pfreq\n\u001b[0;32m    165\u001b[0m     \u001b[38;5;28;01melse\u001b[39;00m:\n\u001b[1;32m--> 166\u001b[0m         \u001b[38;5;28;01mraise\u001b[39;00m \u001b[38;5;167;01mValueError\u001b[39;00m(\n\u001b[0;32m    167\u001b[0m             \u001b[38;5;124m\"\u001b[39m\u001b[38;5;124mYou must specify a period or x must be a pandas object with \u001b[39m\u001b[38;5;124m\"\u001b[39m\n\u001b[0;32m    168\u001b[0m             \u001b[38;5;124m\"\u001b[39m\u001b[38;5;124ma PeriodIndex or a DatetimeIndex with a freq not set to None\u001b[39m\u001b[38;5;124m\"\u001b[39m\n\u001b[0;32m    169\u001b[0m         )\n\u001b[0;32m    170\u001b[0m \u001b[38;5;28;01mif\u001b[39;00m x\u001b[38;5;241m.\u001b[39mshape[\u001b[38;5;241m0\u001b[39m] \u001b[38;5;241m<\u001b[39m \u001b[38;5;241m2\u001b[39m \u001b[38;5;241m*\u001b[39m pfreq:\n\u001b[0;32m    171\u001b[0m     \u001b[38;5;28;01mraise\u001b[39;00m \u001b[38;5;167;01mValueError\u001b[39;00m(\n\u001b[0;32m    172\u001b[0m         \u001b[38;5;124mf\u001b[39m\u001b[38;5;124m\"\u001b[39m\u001b[38;5;124mx must have 2 complete cycles requires \u001b[39m\u001b[38;5;132;01m{\u001b[39;00m\u001b[38;5;241m2\u001b[39m\u001b[38;5;250m \u001b[39m\u001b[38;5;241m*\u001b[39m\u001b[38;5;250m \u001b[39mpfreq\u001b[38;5;132;01m}\u001b[39;00m\u001b[38;5;124m \u001b[39m\u001b[38;5;124m\"\u001b[39m\n\u001b[0;32m    173\u001b[0m         \u001b[38;5;124mf\u001b[39m\u001b[38;5;124m\"\u001b[39m\u001b[38;5;124mobservations. x only has \u001b[39m\u001b[38;5;132;01m{\u001b[39;00mx\u001b[38;5;241m.\u001b[39mshape[\u001b[38;5;241m0\u001b[39m]\u001b[38;5;132;01m}\u001b[39;00m\u001b[38;5;124m observation(s)\u001b[39m\u001b[38;5;124m\"\u001b[39m\n\u001b[0;32m    174\u001b[0m     )\n",
      "\u001b[1;31mValueError\u001b[0m: You must specify a period or x must be a pandas object with a PeriodIndex or a DatetimeIndex with a freq not set to None"
     ]
    }
   ],
   "source": [
    "decomposition = tsa.seasonal_decompose(df, model='additive')"
   ]
  },
  {
   "cell_type": "code",
   "execution_count": null,
   "id": "d00603ad",
   "metadata": {},
   "outputs": [],
   "source": []
  }
 ],
 "metadata": {
  "kernelspec": {
   "display_name": "timeseries",
   "language": "python",
   "name": "timeseries"
  },
  "language_info": {
   "codemirror_mode": {
    "name": "ipython",
    "version": 3
   },
   "file_extension": ".py",
   "mimetype": "text/x-python",
   "name": "python",
   "nbconvert_exporter": "python",
   "pygments_lexer": "ipython3",
   "version": "3.8.16"
  }
 },
 "nbformat": 4,
 "nbformat_minor": 5
}
